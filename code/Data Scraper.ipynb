{
 "cells": [
  {
   "cell_type": "code",
   "execution_count": 1,
   "id": "39698f25",
   "metadata": {},
   "outputs": [],
   "source": [
    "from bs4 import BeautifulSoup\n",
    "import requests\n",
    "import pandas as pd"
   ]
  },
  {
   "cell_type": "code",
   "execution_count": 2,
   "id": "928cf696",
   "metadata": {},
   "outputs": [],
   "source": [
    "def number_of_pages(url_page):\n",
    "    \"\"\"\n",
    "    Scrapping informiation about number of pages \n",
    "    \"\"\"\n",
    "    result = requests.get(url_page).text\n",
    "    doc = BeautifulSoup(result, 'html.parser')\n",
    "    last_page = doc.find_all('a', class_='css-1mi714g')[-1].text\n",
    "    return int(last_page)"
   ]
  },
  {
   "cell_type": "code",
   "execution_count": 3,
   "id": "cfd147f9",
   "metadata": {},
   "outputs": [],
   "source": [
    "cities = ['warszawa','wroclaw','poznan','krakow','gdansk']\n",
    "categories = ['wynajem','sprzedaz']\n",
    "rooms_number = ['one', 'two', 'three', 'four']"
   ]
  },
  {
   "cell_type": "code",
   "execution_count": 4,
   "id": "fdc4cf2f",
   "metadata": {},
   "outputs": [],
   "source": [
    "def property_info_scrapper(url, pages, city_name, poperty_type, category_type):\n",
    "    \"\"\"\n",
    "    Property information search (amount,localisation and district, sq. meters, link to offer, offer title)\n",
    "    \"\"\"\n",
    "    page_offers = []\n",
    "    for page in range(1, pages+1):\n",
    "        \n",
    "        url_split = url.split('page=')\n",
    "        url_connected = url_split[0] + 'page=' +str(page) + url_split[1][1:]\n",
    "        text_page = requests.get(url_connected).text\n",
    "        doc = BeautifulSoup(text_page, 'html.parser')\n",
    "       \n",
    "        for offer in doc.find_all('div', class_='css-1sw7q4x'):\n",
    "            try:\n",
    "                #Title scrap\n",
    "                title = offer.find('h6',class_='css-16v5mdi er34gjf0').text\n",
    "                #Price scrap \n",
    "                price = offer.find('p',class_='css-10b0gli er34gjf0').text\n",
    "                #District info\n",
    "                district = offer.find('p',class_='css-veheph er34gjf0').text\n",
    "                #Sq. meters\n",
    "                sq_meters = offer.find('span',class_='css-643j0o').text\n",
    "                #Weblink\n",
    "                link = offer.find('a', class_ = 'css-rc5s2u')['href']\n",
    "                web_link = f'https://www.olx.pl{link}'\n",
    "\n",
    "                offer_summary = [title, price, poperty_type,city_name, category_type ,district, sq_meters, web_link]\n",
    "                page_offers.append(offer_summary)\n",
    "            except AttributeError:\n",
    "                continue\n",
    "        \n",
    "    return page_offers\n",
    "    \n",
    "    \n",
    "def data_scraper(city):\n",
    "    \"\"\"\n",
    "    Find information about properties separating by category (to sell/ to rent) and by room number (eg. one-room flat)\n",
    "    in given city\n",
    "    \"\"\"\n",
    "    all_data = []\n",
    "    for category in categories:\n",
    "        start_url = f'https://www.olx.pl/nieruchomosci/mieszkania/{category}/{city}/?page=1&search%5Bfilter_enum_rooms%5D%5B0%5D=REPL'\n",
    "        for rooms in rooms_number:\n",
    "            start_url = start_url.replace('REPL',rooms) #Zamienić na końcu\n",
    "            page_numbers = number_of_pages(start_url)\n",
    "            #Scraping data\n",
    "            propety_informations = property_info_scrapper(start_url, page_numbers, city, rooms, category)\n",
    "            all_data.extend(propety_informations)\n",
    "            start_url = start_url.replace(rooms,'REPL')\n",
    "            \n",
    "    print(f'{city}: data collected')\n",
    "    return all_data\n",
    "            "
   ]
  },
  {
   "cell_type": "code",
   "execution_count": 6,
   "id": "b33c7e2b",
   "metadata": {
    "scrolled": true
   },
   "outputs": [
    {
     "name": "stdout",
     "output_type": "stream",
     "text": [
      "wroclaw: data collected\n"
     ]
    }
   ],
   "source": [
    "data_wroclaw = data_scraper('wroclaw')"
   ]
  },
  {
   "cell_type": "code",
   "execution_count": 7,
   "id": "b092ca0f",
   "metadata": {},
   "outputs": [
    {
     "name": "stdout",
     "output_type": "stream",
     "text": [
      "warszawa: data collected\n"
     ]
    }
   ],
   "source": [
    "data_wawa = data_scraper('warszawa')"
   ]
  },
  {
   "cell_type": "code",
   "execution_count": 8,
   "id": "dc9713a9",
   "metadata": {},
   "outputs": [
    {
     "name": "stdout",
     "output_type": "stream",
     "text": [
      "krakow: data collected\n"
     ]
    }
   ],
   "source": [
    "data_krak = data_scraper('krakow')"
   ]
  },
  {
   "cell_type": "code",
   "execution_count": 9,
   "id": "ba5ba8f6",
   "metadata": {},
   "outputs": [
    {
     "name": "stdout",
     "output_type": "stream",
     "text": [
      "poznan: data collected\n"
     ]
    }
   ],
   "source": [
    "data_poz = data_scraper('poznan')"
   ]
  },
  {
   "cell_type": "code",
   "execution_count": 10,
   "id": "2bbe2aaa",
   "metadata": {},
   "outputs": [
    {
     "name": "stdout",
     "output_type": "stream",
     "text": [
      "gdansk: data collected\n"
     ]
    }
   ],
   "source": [
    "data_gda = data_scraper('gdansk')"
   ]
  },
  {
   "cell_type": "code",
   "execution_count": 11,
   "id": "707ff4af",
   "metadata": {
    "scrolled": true
   },
   "outputs": [],
   "source": [
    "columns = ['Title','Amout','Number_of_rooms','City','Category','District','Sqr_meters','WebLink']\n",
    "\n",
    "df_wro = pd.DataFrame(data_wroclaw, columns=columns)\n",
    "df_wwa = pd.DataFrame(data_wawa, columns=columns)\n",
    "df_krk = pd.DataFrame(data_krak, columns=columns)\n",
    "df_poz = pd.DataFrame(data_poz, columns=columns)\n",
    "df_gda = pd.DataFrame(data_gda, columns=columns)\n",
    "\n",
    "df_wro.to_excel('wro.xlsx',index=False)\n",
    "df_wwa.to_excel('wwa.xlsx',index=False)\n",
    "df_krk.to_excel('krk.xlsx',index=False)\n",
    "df_poz.to_excel('poz.xlsx',index=False)\n",
    "df_gda.to_excel('gda.xlsx',index=False)\n"
   ]
  }
 ],
 "metadata": {
  "kernelspec": {
   "display_name": "Python 3 (ipykernel)",
   "language": "python",
   "name": "python3"
  },
  "language_info": {
   "codemirror_mode": {
    "name": "ipython",
    "version": 3
   },
   "file_extension": ".py",
   "mimetype": "text/x-python",
   "name": "python",
   "nbconvert_exporter": "python",
   "pygments_lexer": "ipython3",
   "version": "3.9.7"
  }
 },
 "nbformat": 4,
 "nbformat_minor": 5
}
